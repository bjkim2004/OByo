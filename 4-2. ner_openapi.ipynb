{
 "cells": [
  {
   "cell_type": "code",
   "execution_count": 9,
   "metadata": {},
   "outputs": [],
   "source": [
    "import urllib3\n",
    "import json"
   ]
  },
  {
   "cell_type": "code",
   "execution_count": 10,
   "metadata": {},
   "outputs": [],
   "source": [
    "openApiURL = \"http://aiopen.etri.re.kr:8000/WiseNLU\"\n",
    "accessKey = \"4409fdbe-0408-48b6-9119-1cf24571a3b0\"\n",
    "analysisCode = \"ner\""
   ]
  },
  {
   "cell_type": "code",
   "execution_count": 16,
   "metadata": {},
   "outputs": [],
   "source": [
    "# text = '스티브잡스가 미국 캘리포니아에 있는 스탠포드대학에서 졸업 연설을 했다'\n",
    "# text = '나는 하늘을 나는 비행기를 보았다.'\n",
    "# text = '강남 역삼동에 있는 맛집 알려주세요'\n",
    "text = '신촌 황소곱창 위치 알려줘'"
   ]
  },
  {
   "cell_type": "code",
   "execution_count": 17,
   "metadata": {},
   "outputs": [],
   "source": [
    " \n",
    "requestJson = {\n",
    "    \"access_key\": accessKey,\n",
    "    \"argument\": {\n",
    "        \"text\": text,\n",
    "        \"analysis_code\": analysisCode\n",
    "    }\n",
    "}\n",
    " \n",
    "http = urllib3.PoolManager()\n",
    "response = http.request(\n",
    "    \"POST\",\n",
    "    openApiURL,\n",
    "    headers={\"Content-Type\": \"application/json; charset=UTF-8\"},\n",
    "    body=json.dumps(requestJson)\n",
    ")"
   ]
  },
  {
   "cell_type": "code",
   "execution_count": 18,
   "metadata": {},
   "outputs": [
    {
     "data": {
      "text/html": [
       "<div>\n",
       "<style scoped>\n",
       "    .dataframe tbody tr th:only-of-type {\n",
       "        vertical-align: middle;\n",
       "    }\n",
       "\n",
       "    .dataframe tbody tr th {\n",
       "        vertical-align: top;\n",
       "    }\n",
       "\n",
       "    .dataframe thead th {\n",
       "        text-align: right;\n",
       "    }\n",
       "</style>\n",
       "<table border=\"1\" class=\"dataframe\">\n",
       "  <thead>\n",
       "    <tr style=\"text-align: right;\">\n",
       "      <th></th>\n",
       "      <th>entity_key</th>\n",
       "      <th>entity_name</th>\n",
       "    </tr>\n",
       "  </thead>\n",
       "  <tbody>\n",
       "    <tr>\n",
       "      <td>0</td>\n",
       "      <td>AFW_ART_CRAFT</td>\n",
       "      <td>[미술 작품명(그림/미술품)]</td>\n",
       "    </tr>\n",
       "    <tr>\n",
       "      <td>1</td>\n",
       "      <td>AFW_DOCUMENT</td>\n",
       "      <td>[도서/서적 작품명, 지리서, 지도, 의학 관련 서적, 종교 서적, 각 종교의 경전...</td>\n",
       "    </tr>\n",
       "    <tr>\n",
       "      <td>2</td>\n",
       "      <td>AFW_MUSIC</td>\n",
       "      <td>[음악 작품명]</td>\n",
       "    </tr>\n",
       "    <tr>\n",
       "      <td>3</td>\n",
       "      <td>AFW_PERFORMANCE</td>\n",
       "      <td>[춤/무용 작품명 및 춤 종류, 연극/공연명/가극]</td>\n",
       "    </tr>\n",
       "    <tr>\n",
       "      <td>4</td>\n",
       "      <td>AFW_VIDEO</td>\n",
       "      <td>[영화 작품명, TV 프로그램 이름]</td>\n",
       "    </tr>\n",
       "    <tr>\n",
       "      <td>...</td>\n",
       "      <td>...</td>\n",
       "      <td>...</td>\n",
       "    </tr>\n",
       "    <tr>\n",
       "      <td>141</td>\n",
       "      <td>TR_MEDICINE</td>\n",
       "      <td>[의학 요법/처방, 의학 진단법]</td>\n",
       "    </tr>\n",
       "    <tr>\n",
       "      <td>142</td>\n",
       "      <td>TR_OTHERS</td>\n",
       "      <td>[기타 이론/법칙/원리]</td>\n",
       "    </tr>\n",
       "    <tr>\n",
       "      <td>143</td>\n",
       "      <td>TR_PHILOSOPHY</td>\n",
       "      <td>[철학 이론/사상]</td>\n",
       "    </tr>\n",
       "    <tr>\n",
       "      <td>144</td>\n",
       "      <td>TR_SCIENCE</td>\n",
       "      <td>[과학 관련 이론/법칙/방식/양식/체계/학설]</td>\n",
       "    </tr>\n",
       "    <tr>\n",
       "      <td>145</td>\n",
       "      <td>TR_SOCIAL_SCIENCE</td>\n",
       "      <td>[사회과학 이론/법칙/방법/원리/사상, 정치사상]</td>\n",
       "    </tr>\n",
       "  </tbody>\n",
       "</table>\n",
       "<p>146 rows × 2 columns</p>\n",
       "</div>"
      ],
      "text/plain": [
       "            entity_key                                        entity_name\n",
       "0        AFW_ART_CRAFT                                   [미술 작품명(그림/미술품)]\n",
       "1         AFW_DOCUMENT  [도서/서적 작품명, 지리서, 지도, 의학 관련 서적, 종교 서적, 각 종교의 경전...\n",
       "2            AFW_MUSIC                                           [음악 작품명]\n",
       "3      AFW_PERFORMANCE                       [춤/무용 작품명 및 춤 종류, 연극/공연명/가극]\n",
       "4            AFW_VIDEO                               [영화 작품명, TV 프로그램 이름]\n",
       "..                 ...                                                ...\n",
       "141        TR_MEDICINE                                 [의학 요법/처방, 의학 진단법]\n",
       "142          TR_OTHERS                                      [기타 이론/법칙/원리]\n",
       "143      TR_PHILOSOPHY                                         [철학 이론/사상]\n",
       "144         TR_SCIENCE                          [과학 관련 이론/법칙/방식/양식/체계/학설]\n",
       "145  TR_SOCIAL_SCIENCE                        [사회과학 이론/법칙/방법/원리/사상, 정치사상]\n",
       "\n",
       "[146 rows x 2 columns]"
      ]
     },
     "execution_count": 18,
     "metadata": {},
     "output_type": "execute_result"
    }
   ],
   "source": [
    "import pandas as pd\n",
    "entity = pd.read_pickle('entity.pkl')\n",
    "entity"
   ]
  },
  {
   "cell_type": "code",
   "execution_count": 19,
   "metadata": {},
   "outputs": [],
   "source": [
    "def getEntity(key):\n",
    "    return entity[entity.entity_key==key].tail(1).values[0]"
   ]
  },
  {
   "cell_type": "code",
   "execution_count": 20,
   "metadata": {},
   "outputs": [
    {
     "name": "stdout",
     "output_type": "stream",
     "text": [
      "신촌 LCP_COUNTY ['LCP_COUNTY' list(['군, 면, 읍, 리, 동 등과 같은 세부 행정구역명'])]\n",
      "황소곱창 AF_BUILDING ['AF_BUILDING' list(['건축물/토목건설물, 운동장이름, 아파트, 다리, 등대, 분수'])]\n"
     ]
    }
   ],
   "source": [
    "rep_data = json.loads(str(response.data,\"utf-8\"))\n",
    "for ne in rep_data['return_object']['sentence'][0]['NE']:\n",
    "     print(ne['text'], ne['type'], getEntity(ne['type']))"
   ]
  },
  {
   "cell_type": "code",
   "execution_count": 21,
   "metadata": {},
   "outputs": [
    {
     "name": "stdout",
     "output_type": "stream",
     "text": [
      "{'result': 0, 'return_object': {'doc_id': '', 'DCT': '', 'category': '', 'category_weight': 0.0, 'title': {'text': '', 'NE': ''}, 'metaInfo': {}, 'paragraphInfo': [], 'sentence': [{'id': 0.0, 'reserve_str': '', 'text': '신촌 황소곱창 위치 알려줘', 'morp': [{'id': 0.0, 'lemma': '신촌', 'type': 'NNP', 'position': 0.0, 'weight': 0.0404225}, {'id': 1.0, 'lemma': '황', 'type': 'NNG', 'position': 7.0, 'weight': 0.0624729}, {'id': 2.0, 'lemma': '소', 'type': 'NNG', 'position': 10.0, 'weight': 0.0624729}, {'id': 3.0, 'lemma': '곱창', 'type': 'NNG', 'position': 13.0, 'weight': 0.0131395}, {'id': 4.0, 'lemma': '위치', 'type': 'NNG', 'position': 20.0, 'weight': 0.0566281}, {'id': 5.0, 'lemma': '알리', 'type': 'VV', 'position': 27.0, 'weight': 0.0563215}, {'id': 6.0, 'lemma': '어', 'type': 'EC', 'position': 30.0, 'weight': 0.0224046}, {'id': 7.0, 'lemma': '주', 'type': 'VX', 'position': 33.0, 'weight': 0.0224046}, {'id': 8.0, 'lemma': '어', 'type': 'EF', 'position': 33.0, 'weight': 0.0224046}], 'WSD': [{'id': 0.0, 'text': '신촌', 'type': 'NNP', 'scode': '00', 'weight': 0.0, 'position': 0.0, 'begin': 0.0, 'end': 0.0}, {'id': 1.0, 'text': '황소', 'type': 'NNG', 'scode': '01', 'weight': 1.0, 'position': 7.0, 'begin': 1.0, 'end': 2.0}, {'id': 2.0, 'text': '곱창', 'type': 'NNG', 'scode': '00', 'weight': 0.0, 'position': 13.0, 'begin': 3.0, 'end': 3.0}, {'id': 3.0, 'text': '위치', 'type': 'NNG', 'scode': '01', 'weight': 5.4, 'position': 20.0, 'begin': 4.0, 'end': 4.0}, {'id': 4.0, 'text': '알리', 'type': 'VV', 'scode': '00', 'weight': 0.0, 'position': 27.0, 'begin': 5.0, 'end': 5.0}, {'id': 5.0, 'text': '어', 'type': 'EC', 'scode': '00', 'weight': 1.0, 'position': 30.0, 'begin': 6.0, 'end': 6.0}, {'id': 6.0, 'text': '주', 'type': 'VX', 'scode': '01', 'weight': 9.8, 'position': 33.0, 'begin': 7.0, 'end': 7.0}, {'id': 7.0, 'text': '어', 'type': 'EF', 'scode': '00', 'weight': 1.0, 'position': 33.0, 'begin': 8.0, 'end': 8.0}], 'word': [{'id': 0.0, 'text': '신촌', 'type': '', 'begin': 0.0, 'end': 0.0}, {'id': 1.0, 'text': '황소곱창', 'type': '', 'begin': 1.0, 'end': 3.0}, {'id': 2.0, 'text': '위치', 'type': '', 'begin': 4.0, 'end': 4.0}, {'id': 3.0, 'text': '알려줘', 'type': '', 'begin': 5.0, 'end': 8.0}], 'NE': [{'id': 0.0, 'text': '신촌', 'type': 'LCP_COUNTY', 'begin': 0.0, 'end': 0.0, 'weight': 0.225875, 'common_noun': 0.0}, {'id': 1.0, 'text': '황소곱창', 'type': 'AF_BUILDING', 'begin': 1.0, 'end': 3.0, 'weight': 0.0764395, 'common_noun': 0.0}], 'NE_Link': [], 'dependency': [], 'SRL': []}], 'entity': []}}\n"
     ]
    }
   ],
   "source": [
    "print(rep_data)"
   ]
  },
  {
   "cell_type": "code",
   "execution_count": null,
   "metadata": {},
   "outputs": [],
   "source": []
  },
  {
   "cell_type": "code",
   "execution_count": null,
   "metadata": {},
   "outputs": [],
   "source": []
  }
 ],
 "metadata": {
  "kernelspec": {
   "display_name": "tf_env",
   "language": "python",
   "name": "tf_env"
  },
  "language_info": {
   "codemirror_mode": {
    "name": "ipython",
    "version": 3
   },
   "file_extension": ".py",
   "mimetype": "text/x-python",
   "name": "python",
   "nbconvert_exporter": "python",
   "pygments_lexer": "ipython3",
   "version": "3.7.4"
  }
 },
 "nbformat": 4,
 "nbformat_minor": 4
}
