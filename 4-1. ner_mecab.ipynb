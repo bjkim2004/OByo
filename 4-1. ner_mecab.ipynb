{
 "cells": [
  {
   "cell_type": "code",
   "execution_count": 7,
   "metadata": {},
   "outputs": [],
   "source": [
    "from eunjeon import Mecab"
   ]
  },
  {
   "cell_type": "code",
   "execution_count": 8,
   "metadata": {},
   "outputs": [],
   "source": [
    "text = '스티브잡스가 미국 캘리포니아에 있는 스탠포드대학에서 졸업 연설을 했다'\n",
    "text = '방탄소년단은 한국 가수 최초로 영국 웸블리 스타디움에서 공연을 했다'"
   ]
  },
  {
   "cell_type": "code",
   "execution_count": 9,
   "metadata": {},
   "outputs": [],
   "source": [
    "mecab = Mecab(dicpath='C:\\\\Users\\\\bjkim\\\\Anaconda3\\\\envs\\\\tf_env\\\\lib\\\\site-packages\\\\eunjeon\\\\data\\\\mecabrc')"
   ]
  },
  {
   "cell_type": "code",
   "execution_count": 14,
   "metadata": {},
   "outputs": [
    {
     "data": {
      "text/plain": [
       "['방탄소년단', '한국', '가수', '최초', '영국', '웸블리', '스타디움', '공연']"
      ]
     },
     "execution_count": 14,
     "metadata": {},
     "output_type": "execute_result"
    }
   ],
   "source": [
    "nouns = mecab.nouns(text)\n",
    "nouns"
   ]
  },
  {
   "cell_type": "code",
   "execution_count": 15,
   "metadata": {},
   "outputs": [
    {
     "data": {
      "text/plain": [
       "['방탄소년단\\tNNP,인명,T,방탄소년단,*,*,*,*',\n",
       " '한국\\tNNP,지명,T,한국,*,*,*,*',\n",
       " '가수\\tNNG,*,F,가수,*,*,*,*',\n",
       " '최초\\tNNG,*,F,최초,*,*,*,*',\n",
       " '영국\\tNNP,지명,T,영국,*,*,*,*',\n",
       " '웸블리\\tNNP,*,F,웸블리,*,*,*,*',\n",
       " '스타디움\\tNNG,장소,T,스타디움,*,*,*,*',\n",
       " '공연\\tNNG,*,T,공연,*,*,*,*',\n",
       " 'EOS',\n",
       " '']"
      ]
     },
     "execution_count": 15,
     "metadata": {},
     "output_type": "execute_result"
    }
   ],
   "source": [
    "parsed_msg = mecab.tagger.parse(' '.join(nouns)).split('\\n')\n",
    "parsed_msg"
   ]
  },
  {
   "cell_type": "code",
   "execution_count": null,
   "metadata": {},
   "outputs": [],
   "source": []
  },
  {
   "cell_type": "code",
   "execution_count": null,
   "metadata": {},
   "outputs": [],
   "source": []
  }
 ],
 "metadata": {
  "kernelspec": {
   "display_name": "tf_env",
   "language": "python",
   "name": "tf_env"
  },
  "language_info": {
   "codemirror_mode": {
    "name": "ipython",
    "version": 3
   },
   "file_extension": ".py",
   "mimetype": "text/x-python",
   "name": "python",
   "nbconvert_exporter": "python",
   "pygments_lexer": "ipython3",
   "version": "3.7.4"
  }
 },
 "nbformat": 4,
 "nbformat_minor": 4
}
