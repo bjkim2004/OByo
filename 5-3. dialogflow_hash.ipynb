{
 "cells": [
  {
   "cell_type": "code",
   "execution_count": 9,
   "metadata": {},
   "outputs": [],
   "source": [
    "#!pip install dialogflow"
   ]
  },
  {
   "cell_type": "code",
   "execution_count": 10,
   "metadata": {},
   "outputs": [],
   "source": [
    "import os\n",
    "import dialogflow_v2 as dialogflow"
   ]
  },
  {
   "cell_type": "code",
   "execution_count": 11,
   "metadata": {},
   "outputs": [],
   "source": [
    "os.environ[\"GOOGLE_APPLICATION_CREDENTIALS\"] = \"G:/sync/Project/Python/chatbot/data/a--pxii-64c4b61d7c3d.json\"\n",
    "project_id = 'a--pxii'\n",
    "session_id = '1234567890ABCDEFG1234567890'\n",
    "language_code = 'ko'"
   ]
  },
  {
   "cell_type": "code",
   "execution_count": 12,
   "metadata": {},
   "outputs": [],
   "source": [
    "def dialogflow_response(project_id, session_id, text, language_code):\n",
    "\n",
    "    session_client = dialogflow.SessionsClient()\n",
    "\n",
    "    session = session_client.session_path(project_id, session_id)\n",
    "    print('Session path: {}\\n'.format(session))\n",
    "\n",
    "    text_input = dialogflow.types.TextInput(text=text, language_code=language_code)\n",
    "\n",
    "    query_input = dialogflow.types.QueryInput(text=text_input)\n",
    "\n",
    "    response = session_client.detect_intent(session=session, query_input=query_input)\n",
    "          \n",
    "    print('=' * 20)\n",
    "    print('Query text: {}'.format(response.query_result.query_text))\n",
    "    print('Detected intent: {} (confidence: {})\\n'.format(\n",
    "          response.query_result.intent.display_name,\n",
    "          response.query_result.intent_detection_confidence))\n",
    "    print('Fulfillment text: {}\\n'.format(\n",
    "          response.query_result.fulfillment_text))"
   ]
  },
  {
   "cell_type": "code",
   "execution_count": 20,
   "metadata": {},
   "outputs": [
    {
     "name": "stdout",
     "output_type": "stream",
     "text": [
      "Session path: projects/a--pxii/agent/sessions/1234567890ABCDEFG1234567890\n",
      "\n",
      "====================\n",
      "Query text: 해쉬 함수 알려주세요\n",
      "Detected intent: Hash_Question (confidence: 0.4587589502334595)\n",
      "\n",
      "Fulfillment text: 해쉬 알고리즘명을 입력하세요\n",
      "\n"
     ]
    }
   ],
   "source": [
    "text = '해쉬 함수 알려주세요'\n",
    "dialogflow_response(project_id, session_id, text, language_code)"
   ]
  },
  {
   "cell_type": "code",
   "execution_count": 21,
   "metadata": {},
   "outputs": [
    {
     "name": "stdout",
     "output_type": "stream",
     "text": [
      "Session path: projects/a--pxii/agent/sessions/1234567890ABCDEFG1234567890\n",
      "\n",
      "====================\n",
      "Query text: SHA\n",
      "Detected intent: Hash_Question (confidence: 1.0)\n",
      "\n",
      "Fulfillment text: 해쉬 알고리즘 버전을 입력하세요\n",
      "\n"
     ]
    }
   ],
   "source": [
    "text = 'SHA'\n",
    "dialogflow_response(project_id, session_id, text, language_code)"
   ]
  },
  {
   "cell_type": "code",
   "execution_count": 22,
   "metadata": {},
   "outputs": [
    {
     "name": "stdout",
     "output_type": "stream",
     "text": [
      "Session path: projects/a--pxii/agent/sessions/1234567890ABCDEFG1234567890\n",
      "\n",
      "====================\n",
      "Query text: 256\n",
      "Detected intent: Hash_Question (confidence: 1.0)\n",
      "\n",
      "Fulfillment text: SHA - 256 해쉬 알고리즘에 대해 말씀드리겠습니다. 지식 검색중입니다. 잠시만 기다려 주세요.\n",
      "\n"
     ]
    }
   ],
   "source": [
    "text = '256'\n",
    "dialogflow_response(project_id, session_id, text, language_code)"
   ]
  },
  {
   "cell_type": "code",
   "execution_count": null,
   "metadata": {},
   "outputs": [],
   "source": []
  }
 ],
 "metadata": {
  "kernelspec": {
   "display_name": "Python 3",
   "language": "python",
   "name": "python3"
  },
  "language_info": {
   "codemirror_mode": {
    "name": "ipython",
    "version": 3
   },
   "file_extension": ".py",
   "mimetype": "text/x-python",
   "name": "python",
   "nbconvert_exporter": "python",
   "pygments_lexer": "ipython3",
   "version": "3.7.3"
  }
 },
 "nbformat": 4,
 "nbformat_minor": 4
}
